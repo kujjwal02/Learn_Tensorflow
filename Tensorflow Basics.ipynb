{
 "cells": [
  {
   "cell_type": "code",
   "execution_count": 1,
   "metadata": {
    "ExecuteTime": {
     "end_time": "2018-04-13T04:08:58.900962Z",
     "start_time": "2018-04-13T04:08:56.490312Z"
    }
   },
   "outputs": [],
   "source": [
    "import numpy as np\n",
    "import pandas as pd\n",
    "import matplotlib.pyplot as plt\n",
    "import seaborn as sns\n",
    "import tensorflow as tf\n",
    "\n",
    "sns.set_style('whitegrid')"
   ]
  },
  {
   "cell_type": "code",
   "execution_count": 2,
   "metadata": {
    "ExecuteTime": {
     "end_time": "2018-04-13T04:09:06.353761Z",
     "start_time": "2018-04-13T04:09:06.345739Z"
    }
   },
   "outputs": [
    {
     "data": {
      "text/plain": [
       "'1.5.0'"
      ]
     },
     "execution_count": 2,
     "metadata": {},
     "output_type": "execute_result"
    }
   ],
   "source": [
    "tf.__version__"
   ]
  },
  {
   "cell_type": "code",
   "execution_count": 3,
   "metadata": {
    "ExecuteTime": {
     "end_time": "2018-04-13T04:10:08.140562Z",
     "start_time": "2018-04-13T04:10:08.135550Z"
    }
   },
   "outputs": [],
   "source": [
    "hello = tf.constant('Hello ')\n",
    "world = tf.constant('World')"
   ]
  },
  {
   "cell_type": "code",
   "execution_count": 5,
   "metadata": {
    "ExecuteTime": {
     "end_time": "2018-04-13T04:10:22.825189Z",
     "start_time": "2018-04-13T04:10:22.818170Z"
    }
   },
   "outputs": [
    {
     "name": "stdout",
     "output_type": "stream",
     "text": [
      "Tensor(\"Const:0\", shape=(), dtype=string)\n"
     ]
    }
   ],
   "source": [
    "print(hello)"
   ]
  },
  {
   "cell_type": "code",
   "execution_count": 6,
   "metadata": {
    "ExecuteTime": {
     "end_time": "2018-04-13T04:11:23.427771Z",
     "start_time": "2018-04-13T04:11:11.442284Z"
    }
   },
   "outputs": [],
   "source": [
    "with tf.Session() as sess:\n",
    "    result = sess.run(hello + world)"
   ]
  },
  {
   "cell_type": "code",
   "execution_count": 7,
   "metadata": {
    "ExecuteTime": {
     "end_time": "2018-04-13T04:11:25.668593Z",
     "start_time": "2018-04-13T04:11:25.664582Z"
    }
   },
   "outputs": [
    {
     "name": "stdout",
     "output_type": "stream",
     "text": [
      "b'Hello World'\n"
     ]
    }
   ],
   "source": [
    "print(result)"
   ]
  },
  {
   "cell_type": "code",
   "execution_count": 8,
   "metadata": {
    "ExecuteTime": {
     "end_time": "2018-04-13T04:12:02.977903Z",
     "start_time": "2018-04-13T04:12:02.971920Z"
    }
   },
   "outputs": [],
   "source": [
    "a = tf.constant(10)\n",
    "b = tf.constant(20)"
   ]
  },
  {
   "cell_type": "code",
   "execution_count": 9,
   "metadata": {
    "ExecuteTime": {
     "end_time": "2018-04-13T04:12:06.182562Z",
     "start_time": "2018-04-13T04:12:06.175544Z"
    }
   },
   "outputs": [
    {
     "data": {
      "text/plain": [
       "<tf.Tensor 'add_1:0' shape=() dtype=int32>"
      ]
     },
     "execution_count": 9,
     "metadata": {},
     "output_type": "execute_result"
    }
   ],
   "source": [
    "a + b"
   ]
  },
  {
   "cell_type": "code",
   "execution_count": 10,
   "metadata": {
    "ExecuteTime": {
     "end_time": "2018-04-13T04:12:42.067215Z",
     "start_time": "2018-04-13T04:12:41.853629Z"
    }
   },
   "outputs": [],
   "source": [
    "with tf.Session() as sess:\n",
    "    result = sess.run(a + b)"
   ]
  },
  {
   "cell_type": "code",
   "execution_count": 11,
   "metadata": {
    "ExecuteTime": {
     "end_time": "2018-04-13T04:12:45.172859Z",
     "start_time": "2018-04-13T04:12:45.167841Z"
    }
   },
   "outputs": [
    {
     "data": {
      "text/plain": [
       "30"
      ]
     },
     "execution_count": 11,
     "metadata": {},
     "output_type": "execute_result"
    }
   ],
   "source": [
    "result"
   ]
  },
  {
   "cell_type": "code",
   "execution_count": 12,
   "metadata": {
    "ExecuteTime": {
     "end_time": "2018-04-13T04:14:29.874991Z",
     "start_time": "2018-04-13T04:14:29.866971Z"
    }
   },
   "outputs": [],
   "source": [
    "const = tf.constant(10)\n",
    "\n",
    "fill_mat = tf.fill((4, 4), 10)"
   ]
  },
  {
   "cell_type": "code",
   "execution_count": 14,
   "metadata": {
    "ExecuteTime": {
     "end_time": "2018-04-13T04:15:01.369529Z",
     "start_time": "2018-04-13T04:15:01.363514Z"
    }
   },
   "outputs": [],
   "source": [
    "myzeros = tf.zeros((4, 4))"
   ]
  },
  {
   "cell_type": "code",
   "execution_count": 15,
   "metadata": {
    "ExecuteTime": {
     "end_time": "2018-04-13T04:15:17.559591Z",
     "start_time": "2018-04-13T04:15:17.554579Z"
    }
   },
   "outputs": [],
   "source": [
    "myones = tf.ones((4, 4))"
   ]
  },
  {
   "cell_type": "code",
   "execution_count": 16,
   "metadata": {
    "ExecuteTime": {
     "end_time": "2018-04-13T04:15:57.733992Z",
     "start_time": "2018-04-13T04:15:57.722961Z"
    }
   },
   "outputs": [],
   "source": [
    "myrandn = tf.random_normal((4, 4), mean=0, stddev=1.0)"
   ]
  },
  {
   "cell_type": "code",
   "execution_count": 20,
   "metadata": {
    "ExecuteTime": {
     "end_time": "2018-04-13T04:18:27.277197Z",
     "start_time": "2018-04-13T04:18:27.265165Z"
    }
   },
   "outputs": [],
   "source": [
    "myrandu = tf.random_uniform((4, 4), minval=0, maxval=1)"
   ]
  },
  {
   "cell_type": "code",
   "execution_count": 21,
   "metadata": {
    "ExecuteTime": {
     "end_time": "2018-04-13T04:18:27.598879Z",
     "start_time": "2018-04-13T04:18:27.594870Z"
    }
   },
   "outputs": [],
   "source": [
    "my_ops = [const, fill_mat, myzeros, myones, myrandn, myrandu]"
   ]
  },
  {
   "cell_type": "code",
   "execution_count": 22,
   "metadata": {
    "ExecuteTime": {
     "end_time": "2018-04-13T04:18:41.487659Z",
     "start_time": "2018-04-13T04:18:41.071608Z"
    }
   },
   "outputs": [],
   "source": [
    "sess = tf.InteractiveSession()"
   ]
  },
  {
   "cell_type": "code",
   "execution_count": 23,
   "metadata": {
    "ExecuteTime": {
     "end_time": "2018-04-13T04:19:14.017550Z",
     "start_time": "2018-04-13T04:19:13.651168Z"
    }
   },
   "outputs": [
    {
     "name": "stdout",
     "output_type": "stream",
     "text": [
      "10\n",
      "==============================\n",
      "[[10 10 10 10]\n",
      " [10 10 10 10]\n",
      " [10 10 10 10]\n",
      " [10 10 10 10]]\n",
      "==============================\n",
      "[[ 0.  0.  0.  0.]\n",
      " [ 0.  0.  0.  0.]\n",
      " [ 0.  0.  0.  0.]\n",
      " [ 0.  0.  0.  0.]]\n",
      "==============================\n",
      "[[ 1.  1.  1.  1.]\n",
      " [ 1.  1.  1.  1.]\n",
      " [ 1.  1.  1.  1.]\n",
      " [ 1.  1.  1.  1.]]\n",
      "==============================\n",
      "[[-0.42378595 -0.83003181 -0.62338614 -0.23820399]\n",
      " [ 1.25634313  0.74318248 -0.2089262  -1.63175082]\n",
      " [-1.24282861 -1.56997645 -0.10051653 -0.60684884]\n",
      " [-0.84287626  0.21149538  0.18386181 -0.09061545]]\n",
      "==============================\n",
      "[[ 0.34293938  0.84738433  0.83768034  0.71266913]\n",
      " [ 0.40233934  0.26822889  0.87815464  0.69708836]\n",
      " [ 0.73321426  0.73844528  0.08813643  0.34623337]\n",
      " [ 0.44017088  0.20880508  0.14533341  0.77030277]]\n",
      "==============================\n"
     ]
    }
   ],
   "source": [
    "for op in my_ops:\n",
    "    print(sess.run(op))\n",
    "    print('='*30)"
   ]
  },
  {
   "cell_type": "code",
   "execution_count": 24,
   "metadata": {
    "ExecuteTime": {
     "end_time": "2018-04-13T05:09:19.002741Z",
     "start_time": "2018-04-13T05:09:18.997727Z"
    }
   },
   "outputs": [],
   "source": [
    "a = tf.constant([[1, 2],\n",
    "                [3, 4]])"
   ]
  },
  {
   "cell_type": "code",
   "execution_count": 25,
   "metadata": {
    "ExecuteTime": {
     "end_time": "2018-04-13T05:09:24.561731Z",
     "start_time": "2018-04-13T05:09:24.556712Z"
    }
   },
   "outputs": [
    {
     "data": {
      "text/plain": [
       "TensorShape([Dimension(2), Dimension(2)])"
      ]
     },
     "execution_count": 25,
     "metadata": {},
     "output_type": "execute_result"
    }
   ],
   "source": [
    "a.get_shape()"
   ]
  },
  {
   "cell_type": "code",
   "execution_count": null,
   "metadata": {},
   "outputs": [],
   "source": []
  }
 ],
 "metadata": {
  "kernelspec": {
   "display_name": "Python 3",
   "language": "python",
   "name": "python3"
  },
  "language_info": {
   "codemirror_mode": {
    "name": "ipython",
    "version": 3
   },
   "file_extension": ".py",
   "mimetype": "text/x-python",
   "name": "python",
   "nbconvert_exporter": "python",
   "pygments_lexer": "ipython3",
   "version": "3.6.4"
  },
  "toc": {
   "nav_menu": {},
   "number_sections": true,
   "sideBar": true,
   "skip_h1_title": true,
   "title_cell": "Table of Contents",
   "title_sidebar": "Contents",
   "toc_cell": false,
   "toc_position": {},
   "toc_section_display": true,
   "toc_window_display": false
  }
 },
 "nbformat": 4,
 "nbformat_minor": 2
}
